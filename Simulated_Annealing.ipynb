{
  "nbformat": 4,
  "nbformat_minor": 0,
  "metadata": {
    "colab": {
      "name": "Simulated Annealing.ipynb",
      "version": "0.3.2",
      "provenance": [],
      "private_outputs": true,
      "collapsed_sections": [],
      "include_colab_link": true
    },
    "kernelspec": {
      "name": "python3",
      "display_name": "Python 3"
    },
    "accelerator": "GPU"
  },
  "cells": [
    {
      "cell_type": "markdown",
      "metadata": {
        "id": "view-in-github",
        "colab_type": "text"
      },
      "source": [
        "[View in Colaboratory](https://colab.research.google.com/github/rizkiar00/SimulatedAnneling/blob/master/Simulated_Annealing.ipynb)"
      ]
    },
    {
      "metadata": {
        "id": "QlN2Gtwg4CZY",
        "colab_type": "code",
        "colab": {}
      },
      "cell_type": "code",
      "source": [
        "import matplotlib\n",
        "import numpy as np\n",
        "import matplotlib.pyplot as plt\n",
        "import random\n",
        "import math\n",
        "\n",
        "#Buat Fungsinya\n",
        "def f(x):\n",
        "    x1 = x[0]\n",
        "    x2 = x[1]\n",
        "    obj = math.sin(x1)*math.cos(x2)*np.exp(np.absolute(1-math.sqrt(x1**2+x2**2)/math.pi))\n",
        "    np.absolute(obj)\n",
        "    return obj*-1\n",
        "\n",
        "\n",
        "# Buat Visualisasi Fungsi\n",
        "i1 = np.arange(-10, 10, 0.01)\n",
        "i2 = np.arange(-10, 10, 0.01)\n",
        "x1m, x2m = np.meshgrid(i1, i2)\n",
        "fm = np.zeros(x1m.shape)\n",
        "for i in range(x1m.shape[0]):\n",
        "    for j in range(x1m.shape[1]):\n",
        "        fm[i][j] = -1*np.absolute(math.sin(x1m[i][j])*math.cos(x2m[i][j])*np.exp(np.absolute(1-math.sqrt(x1m[i][j]**2+x2m[i][j]**2)/math.pi)))\n",
        "plt.figure()\n",
        "plt.contourf(x1m, x2m, fm,cmap='afmhot')\n",
        "plt.colorbar();\n",
        "plt.title('Visualisasi Fungsi')\n",
        "plt.xlabel('x1')\n",
        "plt.ylabel('x2')"
      ],
      "execution_count": 0,
      "outputs": []
    },
    {
      "metadata": {
        "id": "yapuOgNqjlgA",
        "colab_type": "code",
        "colab": {}
      },
      "cell_type": "code",
      "source": [
        "#Jumlah Cycle\n",
        "n = 100\n",
        "# Jumlah Percobaan Tiap Cycle\n",
        "m = 100\n",
        "# Kemungkinan Menerima Solusi Yang Lebih Buruk Pada Kondisi Awal\n",
        "p1 = 0.9\n",
        "# Start Location\n",
        "x_start = [0, 0]\n",
        "# Suhu Awal\n",
        "t1 = -1.0/math.log(p1)\n",
        "# Inisialisai x\n",
        "x = np.zeros((n+1,2))\n",
        "x[0] = x_start\n",
        "xi = np.zeros(2)\n",
        "xi = x_start\n",
        "xc = np.zeros(2)\n",
        "xc = x[0]\n",
        "fc = f(xi)\n",
        "fs = np.zeros(n+1)\n",
        "fs[0] = fc\n",
        "t = t1\n",
        "for i in range(n):\n",
        "\n",
        "#Print Tiap Cycle\n",
        "    print('Cycle: ' + str(i) + ' started with Temperature: ' + str(t))\n",
        "    for j in range(m):\n",
        "        # Geser Nilai x\n",
        "        xi[0] = xc[0] + random.uniform(-10, 10) /math.exp(i/25)\n",
        "        xi[1] = xc[1] + random.uniform(-10, 10) /math.exp(i/25)\n",
        "        # Set x minimal dan maksimal\n",
        "        xi[0] = max(min(xi[0],10),-10)\n",
        "        xi[1] = max(min(xi[1],10),-10)\n",
        "        DeltaE = abs(f(xi)-fc)\n",
        "        if (f(xi)>fc):\n",
        "            # jika nilai fungsi lebih buruk\n",
        "            # hitung probability acceptence\n",
        "            p = math.exp(-DeltaE/(t))\n",
        "            # tentukan mau menerima atau tidak\n",
        "            if (random.random()<p):\n",
        "                # tolak\n",
        "                accept = True\n",
        "            else:\n",
        "                # terima\n",
        "                accept = False\n",
        "        else:\n",
        "            # terima\n",
        "            accept = True\n",
        "        if (accept==True):\n",
        "            # update solusi\n",
        "            xc[0] = xi[0]\n",
        "            xc[1] = xi[1]\n",
        "            fc = f(xc)\n",
        "    # simpan hasil terbaik tiap cycle\n",
        "    print('Cycle: ' + str(i) + ' (X1: ' + str(xc[0]) + ') (X2 :' + str(xc[1]) + ') Nilai: ' + str(fc))\n",
        "    print()\n",
        "    x[i+1][0] = xc[0]\n",
        "    x[i+1][1] = xc[1]\n",
        "    fs[i+1] = fc\n",
        "    # kurangin temperatur\n",
        "    t = 0.9 * t\n",
        "    \n",
        "print('Best solution: ' + str(xc))\n",
        "print('Best objective: ' + str(fc))"
      ],
      "execution_count": 0,
      "outputs": []
    },
    {
      "metadata": {
        "id": "4_l3jNrJjVWT",
        "colab_type": "code",
        "colab": {}
      },
      "cell_type": "code",
      "source": [
        "\n",
        "# Visualisasi Hasil Pencarian Simulated Anneling\n",
        "plt.figure()\n",
        "plt.contourf(x1m, x2m, fm,cmap='afmhot')\n",
        "plt.title('Visualisasi Hasil')\n",
        "plt.xlabel('x1')\n",
        "plt.ylabel('x2')\n",
        "plt.plot(x[:,0],x[:,1],'y-o',color='aqua')\n",
        "plt.colorbar();\n",
        "\n",
        "fig = plt.figure()\n",
        "ax1 = fig.add_subplot(211)\n",
        "ax1.plot(fs,'r.-')\n",
        "ax1.legend(['Objective'])\n",
        "ax2 = fig.add_subplot(212)\n",
        "ax2.plot(x[:,0],'b.-')\n",
        "ax2.plot(x[:,1],'g--')\n",
        "ax2.legend(['x1','x2'])\n",
        "\n",
        "plt.show()\n"
      ],
      "execution_count": 0,
      "outputs": []
    }
  ]
}